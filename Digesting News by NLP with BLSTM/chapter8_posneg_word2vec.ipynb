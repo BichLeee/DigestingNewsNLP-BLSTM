{
 "cells": [
  {
   "cell_type": "code",
   "execution_count": null,
   "metadata": {},
   "outputs": [],
   "source": [
    "# Import libraries\n",
    "import os\n",
    "import pandas as pd\n",
    "import numpy as np\n",
    "import matplotlib.pyplot as plt\n",
    "\n",
    "import itertools\n",
    "\n",
    "from sklearn.model_selection import train_test_split\n",
    "from sklearn.preprocessing import LabelEncoder\n",
    "from sklearn.metrics import confusion_matrix\n",
    "from sklearn.metrics import precision_recall_fscore_support\n",
    "from sklearn.utils import resample, shuffle\n",
    "\n",
    "from keras.preprocessing.text import Tokenizer\n",
    "from keras.preprocessing.sequence import pad_sequences\n",
    "from keras.utils.np_utils import to_categorical\n",
    "\n",
    "from keras.models import Sequential\n",
    "from keras.layers import Embedding, Dropout, Bidirectional, LSTM, GlobalMaxPool1D, Dense\n",
    "\n",
    "import gensim"
   ]
  },
  {
   "cell_type": "code",
   "execution_count": null,
   "metadata": {},
   "outputs": [],
   "source": [
    "# Set GPU\n",
    "os.environ[\"CUDA_DEVICE_ORDER\"] = \"PCI_BUS_ID\" \n",
    "os.environ[\"CUDA_VISIBLE_DEVICES\"] = \"\""
   ]
  },
  {
   "cell_type": "code",
   "execution_count": null,
   "metadata": {},
   "outputs": [],
   "source": [
    "## Load dataset\n",
    "df = pd.read_table('FinancialPhraseBank-v1.0/Sentences_50Agree.txt', delimiter='\\r\\n')\n",
    "values = np.array([df.values[i][0].split('@') for i in range(df.size)])\n",
    "data = pd.DataFrame({'sentence':values[:, 0], 'sentiment':values[:, 1]})\n",
    "\n",
    "# Show first rows\n",
    "data.head()"
   ]
  },
  {
   "cell_type": "code",
   "execution_count": null,
   "metadata": {},
   "outputs": [],
   "source": [
    "## Split dataset into training and testing sets\n",
    "X = data.sentence\n",
    "y = data.sentiment\n",
    "\n",
    "X_train, X_test, y_train, y_test = train_test_split(X, y, test_size=0.2, stratify=y, random_state=7)\n",
    "\n",
    "y_train.shape"
   ]
  },
  {
   "cell_type": "code",
   "execution_count": null,
   "metadata": {},
   "outputs": [],
   "source": [
    "## Sampling the dataset\n",
    "# Separate classes\n",
    "neu_index = y_train[y_train == 'neutral'].index\n",
    "pos_index = y_train[y_train == 'positive'].index\n",
    "neg_index = y_train[y_train == 'negative'].index"
   ]
  },
  {
   "cell_type": "code",
   "execution_count": null,
   "metadata": {},
   "outputs": [],
   "source": [
    "# Down-sample neutral class\n",
    "X_train_neu, y_train_neu = resample(X_train.loc[neu_index], y_train.loc[neu_index],\n",
    "                                    n_samples=len(pos_index), replace=False,\n",
    "                                    random_state=7)\n",
    "\n",
    "# Up-sample negative class\n",
    "X_train_neg, y_train_neg = resample(X_train.loc[neg_index], y_train.loc[neg_index],\n",
    "                                    n_samples=len(pos_index), replace=True,\n",
    "                                    random_state=7)\n",
    "\n",
    "# Combine resampled classes\n",
    "X_train_resample = X_train.loc[pos_index].append([X_train_neu, X_train_neg])"
   ]
  },
  {
   "cell_type": "code",
   "execution_count": null,
   "metadata": {},
   "outputs": [],
   "source": [
    "# Remove neutral sentences\n",
    "neu_ind = y[y == 'neutral'].index\n",
    "\n",
    "X = X.drop(neu_ind)\n",
    "y = y.drop(neu_ind)\n",
    "\n",
    "X_train2, X_test, y_train2, y_test = train_test_split(X, y, stratify=y, test_size=0.2, random_state=7)\n",
    "\n",
    "# Separate classes\n",
    "pos_index = y_train2[y_train2 == 'positive'].index\n",
    "neg_index = y_train2[y_train2 == 'negative'].index\n",
    "\n",
    "# Up-sample negative class\n",
    "X_train_neg, y_train_neg = resample(X_train2.loc[neg_index], y_train2.loc[neg_index],\n",
    "                                    n_samples=len(pos_index), replace=True, random_state=7)\n",
    "\n",
    "# Combine resampled classes\n",
    "X_train2 = X_train2.loc[pos_index].append(X_train_neg)\n",
    "y_train2 = y_train2.loc[pos_index].append(y_train_neg)\n",
    "\n",
    "# Shuffle samples\n",
    "X_train2, y_train2 = shuffle(X_train2, y_train2, random_state=7)"
   ]
  },
  {
   "cell_type": "code",
   "execution_count": null,
   "metadata": {},
   "outputs": [],
   "source": [
    "## Tokenize training and testing sets\n",
    "tokenizer = Tokenizer()\n",
    "tokenizer.fit_on_texts(X_train_resample)\n",
    "\n",
    "word_index = tokenizer.word_index\n",
    "print(\"Number of words: {}\".format(len(word_index)))\n",
    "\n",
    "X_train2 = tokenizer.texts_to_sequences(X_train2)\n",
    "X_test = tokenizer.texts_to_sequences(X_test)"
   ]
  },
  {
   "cell_type": "code",
   "execution_count": null,
   "metadata": {},
   "outputs": [],
   "source": [
    "# Pad the sequences\n",
    "max_len = 71\n",
    "\n",
    "X_train2 = pad_sequences(X_train2, maxlen=max_len)\n",
    "X_test = pad_sequences(X_test, maxlen=max_len)"
   ]
  },
  {
   "cell_type": "code",
   "execution_count": null,
   "metadata": {},
   "outputs": [],
   "source": [
    "# Encode target values as integers\n",
    "le = LabelEncoder()\n",
    "le.fit(y_train2)\n",
    "\n",
    "y_train2 = le.transform(y_train2)\n",
    "y_test = le.transform(y_test)"
   ]
  },
  {
   "cell_type": "code",
   "execution_count": null,
   "metadata": {},
   "outputs": [],
   "source": [
    "## Create embedding matrix\n",
    "# Load Google's pre-trained Word2Vec model\n",
    "word2vec = gensim.models.KeyedVectors.load_word2vec_format(\"GoogleNews-vectors-negative300.bin\", binary=True)"
   ]
  },
  {
   "cell_type": "code",
   "execution_count": null,
   "metadata": {},
   "outputs": [],
   "source": [
    "def word2vec_matrix(model, word_index):\n",
    "    \"\"\"\n",
    "    This function creates an embedding matrix from Word2Vec word embeddings.  \n",
    "    \"\"\"\n",
    "    embedding_matrix = np.zeros((len(word_index) + 1, EMBEDDING_DIM))\n",
    "    for word, i in word_index.items():\n",
    "        if word in model.index2word:\n",
    "            embedding_matrix[i] = model[word]\n",
    "\n",
    "    return embedding_matrix"
   ]
  },
  {
   "cell_type": "code",
   "execution_count": null,
   "metadata": {},
   "outputs": [],
   "source": [
    "# Embedding size\n",
    "EMBEDDING_DIM = 300\n",
    "\n",
    "# Embedding matrix\n",
    "w2v_matrix =  word2vec_matrix(word2vec, word_index)\n",
    "# Save embedding matrix\n",
    "np.save('embeddings/posneg_emb_matrix_w2v', w2v_matrix)"
   ]
  },
  {
   "cell_type": "code",
   "execution_count": null,
   "metadata": {},
   "outputs": [],
   "source": [
    "# Create the model\n",
    "model = Sequential()\n",
    "model.add(Embedding(len(word_index)+1, EMBEDDING_DIM, weights=[w2v_matrix], trainable=False, input_length=max_len, name='posneg_embedding_1'))\n",
    "model.add(Dropout(0.25, name='posneg_dropout_1'))\n",
    "model.add(Bidirectional(LSTM(200, return_sequences=True), merge_mode='concat', name='posneg_blstm_1'))\n",
    "model.add(Dropout(0.25, name='posneg_dropout_2'))\n",
    "model.add(GlobalMaxPool1D(name='posneg_pool_1'))\n",
    "model.add(Dense(50, activation='sigmoid', name='posneg_dense_1'))\n",
    "model.add(Dropout(0.25, name='posneg_dropout_3'))\n",
    "model.add(Dense(1, activation='sigmoid', name='posneg_dense_2'))\n",
    "\n",
    "model.summary()"
   ]
  },
  {
   "cell_type": "code",
   "execution_count": null,
   "metadata": {},
   "outputs": [],
   "source": [
    "## Compile the model\n",
    "model.compile(loss='binary_crossentropy', optimizer='rmsprop', metrics=['acc'])"
   ]
  },
  {
   "cell_type": "code",
   "execution_count": null,
   "metadata": {},
   "outputs": [],
   "source": [
    "## Train the model\n",
    "batch_size = 64\n",
    "epochs = 40\n",
    "model.fit(X_train2, y_train2, epochs=epochs, batch_size=batch_size, verbose=0)"
   ]
  },
  {
   "cell_type": "code",
   "execution_count": null,
   "metadata": {},
   "outputs": [],
   "source": [
    "## Make predictions\n",
    "y_pred = model.predict(X_test, batch_size=batch_size)\n",
    "\n",
    "y_test = np.round(y_test)\n",
    "y_pred = np.round(y_pred)"
   ]
  },
  {
   "cell_type": "code",
   "execution_count": null,
   "metadata": {},
   "outputs": [],
   "source": [
    "# Precision, recall, f1 score and support\n",
    "# Precision, recall, f1 score and support\n",
    "p, r, f1, s = precision_recall_fscore_support(y_test, y_pred, average=None)\n",
    "\n",
    "# Print precision, recall, f1 score and support\n",
    "results = pd.DataFrame({'1-Precision': p, '2-Recall': r, '3-F1 score': f1, '4-Support': s}, index=labels)\n",
    "\n",
    "# Print precision, recall, f1 score and support\n",
    "print(results.round(decimals=3))"
   ]
  },
  {
   "cell_type": "code",
   "execution_count": null,
   "metadata": {},
   "outputs": [],
   "source": [
    "# Serialize model to JSON\n",
    "model_name = 'models/posneg_model'\n",
    "model_json = model.to_json()\n",
    "with open(model_name + '.json', 'w') as json_file:\n",
    "    json_file.write(model_json)\n",
    "    \n",
    "# Serialize weights to HDF5\n",
    "model.save_weights(model_name + '.h5')"
   ]
  }
 ],
 "metadata": {
  "kernelspec": {
   "display_name": "Python [conda env:keras]",
   "language": "python",
   "name": "conda-env-keras-py"
  },
  "language_info": {
   "codemirror_mode": {
    "name": "ipython",
    "version": 3
   },
   "file_extension": ".py",
   "mimetype": "text/x-python",
   "name": "python",
   "nbconvert_exporter": "python",
   "pygments_lexer": "ipython3",
   "version": "3.5.6"
  }
 },
 "nbformat": 4,
 "nbformat_minor": 2
}
