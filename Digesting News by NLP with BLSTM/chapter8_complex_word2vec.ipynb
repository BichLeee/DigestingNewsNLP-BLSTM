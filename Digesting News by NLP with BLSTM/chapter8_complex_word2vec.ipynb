{
 "cells": [
  {
   "cell_type": "code",
   "execution_count": null,
   "metadata": {
    "collapsed": true
   },
   "outputs": [],
   "source": [
    "# Import libraries\n",
    "import os\n",
    "import pandas as pd\n",
    "import numpy as np\n",
    "import matplotlib.pyplot as plt\n",
    "\n",
    "import itertools\n",
    "\n",
    "from sklearn.model_selection import train_test_split\n",
    "from sklearn.preprocessing import LabelEncoder\n",
    "from sklearn.metrics import confusion_matrix\n",
    "from sklearn.metrics import precision_recall_fscore_support\n",
    "from sklearn.utils import resample, shuffle\n",
    "\n",
    "from keras.preprocessing.text import Tokenizer\n",
    "from keras.preprocessing.sequence import pad_sequences\n",
    "from keras.utils.np_utils import to_categorical\n",
    "\n",
    "from keras.models import Sequential\n",
    "from keras.layers import Embedding, Dropout, Bidirectional, LSTM, GlobalMaxPool1D, Dense\n",
    "from keras.layers import Merge\n",
    "from keras.models import model_from_json\n",
    "\n",
    "import gensim"
   ]
  },
  {
   "cell_type": "code",
   "execution_count": null,
   "metadata": {
    "collapsed": true
   },
   "outputs": [],
   "source": [
    "# Set GPU\n",
    "os.environ[\"CUDA_DEVICE_ORDER\"] = \"PCI_BUS_ID\" \n",
    "os.environ[\"CUDA_VISIBLE_DEVICES\"] = \"\""
   ]
  },
  {
   "cell_type": "code",
   "execution_count": null,
   "metadata": {
    "collapsed": true
   },
   "outputs": [],
   "source": [
    "## Load dataset\n",
    "df = pd.read_table('FinancialPhraseBank-v1.0/Sentences_50Agree.txt', delimiter='\\r\\n')\n",
    "values = np.array([df.values[i][0].split('@') for i in range(df.size)])\n",
    "data = pd.DataFrame({'sentence':values[:, 0], 'sentiment':values[:, 1]})\n",
    "\n",
    "# Show first rows\n",
    "data.head()"
   ]
  },
  {
   "cell_type": "code",
   "execution_count": null,
   "metadata": {
    "collapsed": true
   },
   "outputs": [],
   "source": [
    "# Visualize the target distribution\n",
    "ax = data['sentiment'].value_counts().plot(kind='bar')\n",
    "ax.set_ylabel('Percentage of sentiments', fontsize=12)\n",
    "ax.set_yticks(np.arange(0, 3501, 500))\n",
    "\n",
    "# Print percents per class\n",
    "total = data['sentiment'].size\n",
    "for i in ax.patches:\n",
    "    ax.text(i.get_x() + i.get_width()/2., i.get_height() + 40, str(round((i.get_height()/total)*100, 2)) + '%', ha ='center', fontsize=15)\n",
    "plt.show()"
   ]
  },
  {
   "cell_type": "code",
   "execution_count": null,
   "metadata": {
    "collapsed": true
   },
   "outputs": [],
   "source": [
    "## Split dataset into training and testing sets\n",
    "X = data.sentence\n",
    "y = data.sentiment\n",
    "\n",
    "X_train, X_test, y_train, y_test = train_test_split(X, y, test_size=0.2, stratify=y, random_state=7)\n",
    "\n",
    "y_train.shape"
   ]
  },
  {
   "cell_type": "code",
   "execution_count": null,
   "metadata": {
    "collapsed": true
   },
   "outputs": [],
   "source": [
    "## Sampling the dataset\n",
    "# Separate classes\n",
    "neu_index = y_train[y_train == 'neutral'].index\n",
    "pos_index = y_train[y_train == 'positive'].index\n",
    "neg_index = y_train[y_train == 'negative'].index"
   ]
  },
  {
   "cell_type": "code",
   "execution_count": null,
   "metadata": {
    "collapsed": true
   },
   "outputs": [],
   "source": [
    "# Down-sample neutral class\n",
    "X_train_neu, y_train_neu = resample(X_train.loc[neu_index], y_train.loc[neu_index],\n",
    "                                    n_samples=len(pos_index), replace=False,\n",
    "                                    random_state=7)\n",
    "\n",
    "# Up-sample negative class\n",
    "X_train_neg, y_train_neg = resample(X_train.loc[neg_index], y_train.loc[neg_index],\n",
    "                                    n_samples=len(pos_index), replace=True,\n",
    "                                    random_state=7)"
   ]
  },
  {
   "cell_type": "code",
   "execution_count": null,
   "metadata": {
    "collapsed": true
   },
   "outputs": [],
   "source": [
    "# Combine resampled classes\n",
    "X_train_resample = X_train.loc[pos_index].append([X_train_neu, X_train_neg])\n",
    "y_train_resample = y_train.loc[pos_index].append([y_train_neu, y_train_neg])\n",
    "\n",
    "# Shuffle samples\n",
    "X_train_resample, y_train_resample = shuffle(X_train_resample, y_train_resample, random_state=7)\n",
    "\n",
    "# Display new class counts\n",
    "print(y_train_resample.value_counts())"
   ]
  },
  {
   "cell_type": "code",
   "execution_count": null,
   "metadata": {
    "collapsed": true
   },
   "outputs": [],
   "source": [
    "## Tokenize training and testing sets\n",
    "tokenizer = Tokenizer()\n",
    "tokenizer.fit_on_texts(X_train_resample)\n",
    "\n",
    "X_train_resample = tokenizer.texts_to_sequences(X_train_resample)\n",
    "X_test = tokenizer.texts_to_sequences(X_test)\n",
    "\n",
    "word_index = tokenizer.word_index\n",
    "print(\"Number of words: {}\".format(len(word_index)))"
   ]
  },
  {
   "cell_type": "code",
   "execution_count": null,
   "metadata": {
    "collapsed": true
   },
   "outputs": [],
   "source": [
    "# Pad the sequences\n",
    "max_len = 71\n",
    "\n",
    "X_train_resample = pad_sequences(X_train_resample, maxlen=max_len)\n",
    "X_test = pad_sequences(X_test, maxlen=max_len)"
   ]
  },
  {
   "cell_type": "code",
   "execution_count": null,
   "metadata": {
    "collapsed": true
   },
   "outputs": [],
   "source": [
    "# Encode target values as integers\n",
    "le = LabelEncoder()\n",
    "le.fit(y_train)\n",
    "\n",
    "y_train_resample = le.transform(y_train_resample)\n",
    "y_test = le.transform(y_test)"
   ]
  },
  {
   "cell_type": "code",
   "execution_count": null,
   "metadata": {
    "collapsed": true
   },
   "outputs": [],
   "source": [
    "# Convert integers to dummy variables (i.e. one hot encoded)\n",
    "y_train_resample = to_categorical(y_train_resample)\n",
    "y_test = to_categorical(y_test)\n",
    "\n",
    "n_classes = y_train_resample.shape[1]"
   ]
  },
  {
   "cell_type": "code",
   "execution_count": null,
   "metadata": {
    "collapsed": true
   },
   "outputs": [],
   "source": [
    "path_name = 'models/'\n",
    "# load json and create POSNEG model\n",
    "posneg_model_name = path_name + 'posneg_model'\n",
    "posneg_json_file = open(posneg_model_name + '.json', 'r')\n",
    "loaded_posneg_model_json = posneg_json_file.read()\n",
    "posneg_json_file.close()\n",
    "posneg_model = model_from_json(loaded_posneg_model_json)\n",
    "# load weights into new model\n",
    "posneg_model.load_weights(posneg_model_name + '.h5')\n",
    "\n",
    "# load json and create NEU model\n",
    "neu_model_name = path_name + 'neu_model'\n",
    "neu_json_file = open(neu_model_name + '.json', 'r')\n",
    "loaded_neu_model_json = neu_json_file.read()\n",
    "neu_json_file.close()\n",
    "neu_model = model_from_json(loaded_neu_model_json)\n",
    "# load weights into new model\n",
    "neu_model.load_weights(neu_model_name + '.h5')"
   ]
  },
  {
   "cell_type": "code",
   "execution_count": null,
   "metadata": {
    "collapsed": true
   },
   "outputs": [],
   "source": [
    "## Create the model\n",
    "# Complex network\n",
    "model = Sequential()\n",
    "model.add(Merge([posneg_model, neu_model], mode='concat', name='merge_1'))\n",
    "model.add(Dense(10, activation='sigmoid', name='complex_dense_1'))\n",
    "model.add(Dropout(0.1, name='complex_dropout_1'))\n",
    "model.add(Dense(y_train.shape[1], activation='softmax', name='complex_output'))\n",
    "\n",
    "model.summary()"
   ]
  },
  {
   "cell_type": "code",
   "execution_count": null,
   "metadata": {
    "collapsed": true
   },
   "outputs": [],
   "source": [
    "# Freeze the layers of pretrained models\n",
    "for layer in posneg_model.layers:\n",
    "    layer.trainable = False\n",
    "for layer in neu_model.layers:\n",
    "    layer.trainable = False"
   ]
  },
  {
   "cell_type": "code",
   "execution_count": null,
   "metadata": {
    "collapsed": true
   },
   "outputs": [],
   "source": [
    "## Compile the model\n",
    "model.compile(loss='categorical_crossentropy', optimizer='rmsprop', metrics=['acc'])"
   ]
  },
  {
   "cell_type": "code",
   "execution_count": null,
   "metadata": {
    "collapsed": true
   },
   "outputs": [],
   "source": [
    "## Train the model\n",
    "batch_size = 64\n",
    "epochs = 50\n",
    "model.fit([X_train_resample, X_train_resample], y_train_resample, epochs=epochs, batch_size=batch_size, verbose=0)"
   ]
  },
  {
   "cell_type": "code",
   "execution_count": null,
   "metadata": {
    "collapsed": true
   },
   "outputs": [],
   "source": [
    "## Compute the testing accuracy\n",
    "test_loss, test_acc = model.evaluate([X_test, X_test], y_test, batch_size=batch_size)\n",
    "\n",
    "print(\"Testing accuracy: {:.1f}\".format(test_acc * 100))"
   ]
  },
  {
   "cell_type": "code",
   "execution_count": null,
   "metadata": {
    "collapsed": true
   },
   "outputs": [],
   "source": [
    "## Make predictions\n",
    "y_pred = model.predict([X_test, X_test], batch_size=batch_size)\n",
    "\n",
    "y_test = np.argmax(y_test, axis=1)\n",
    "y_pred = np.argmax(y_pred, axis=1)"
   ]
  },
  {
   "cell_type": "code",
   "execution_count": null,
   "metadata": {
    "collapsed": true
   },
   "outputs": [],
   "source": [
    "# Confusion matrix\n",
    "cm = confusion_matrix(y_test, y_pred)\n",
    "\n",
    "# Set options to print 2 decimals\n",
    "np.set_printoptions(precision=2)"
   ]
  },
  {
   "cell_type": "code",
   "execution_count": null,
   "metadata": {
    "collapsed": true
   },
   "outputs": [],
   "source": [
    "def plot_confusion_matrix(cm, classes, \n",
    "                          title='Confusion matrix', \n",
    "                          cmap=plt.cm.Blues):\n",
    "    \"\"\"\n",
    "    This function prints and plots the confusion matrix.\n",
    "    \"\"\"\n",
    "    plt.imshow(cm, interpolation='nearest', cmap=cmap)\n",
    "    plt.title(title)\n",
    "    plt.colorbar()\n",
    "    \n",
    "    tick_marks = np.arange(len(classes))\n",
    "    plt.xticks(tick_marks, classes, rotation=45)\n",
    "    plt.yticks(tick_marks, classes)\n",
    "    \n",
    "    fmt = 'd'\n",
    "    thresh = cm.max() / 2.\n",
    "    \n",
    "    for i, j in itertools.product(range(cm.shape[0]), range(cm.shape[1])):\n",
    "        plt.text(j, i, format(cm[i, j], fmt), horizontalalignment=\"center\", \n",
    "                 color=\"white\" if cm[i, j] > thresh else \"black\")\n",
    "    \n",
    "    plt.ylabel('True label')\n",
    "    plt.xlabel('Predicted label')\n",
    "    plt.tight_layout()"
   ]
  },
  {
   "cell_type": "code",
   "execution_count": null,
   "metadata": {
    "collapsed": true
   },
   "outputs": [],
   "source": [
    "labels = le.classes_.tolist()\n",
    "\n",
    "# Plot confusion matrix\n",
    "plt.figure()\n",
    "plot_confusion_matrix(cm, classes=labels)"
   ]
  },
  {
   "cell_type": "code",
   "execution_count": null,
   "metadata": {
    "collapsed": true
   },
   "outputs": [],
   "source": [
    "# Precision, recall, f1 score and support\n",
    "p, r, f1, s = precision_recall_fscore_support(y_test, y_pred, average=None)\n",
    "results = pd.DataFrame({'1-Precision': p, '2-Recall': r, '3-F1 score': f1, '4-Support': s}, index=labels)\n",
    "\n",
    "# Print precision, recall, f1 score and support\n",
    "print(results.round(decimals=3))"
   ]
  },
  {
   "cell_type": "code",
   "execution_count": null,
   "metadata": {
    "collapsed": true
   },
   "outputs": [],
   "source": []
  }
 ],
 "metadata": {
  "kernelspec": {
   "display_name": "Python 3",
   "language": "python",
   "name": "python3"
  },
  "language_info": {
   "codemirror_mode": {
    "name": "ipython",
    "version": 3
   },
   "file_extension": ".py",
   "mimetype": "text/x-python",
   "name": "python",
   "nbconvert_exporter": "python",
   "pygments_lexer": "ipython3",
   "version": "3.5.6"
  }
 },
 "nbformat": 4,
 "nbformat_minor": 2
}
